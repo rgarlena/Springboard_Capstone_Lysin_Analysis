{
 "cells": [
  {
   "cell_type": "markdown",
   "id": "2888fe66-a41f-4faf-a84b-fd0401818bac",
   "metadata": {},
   "source": [
    "Data Science Project: Phage Lysin Sequence Alignment Analysis "
   ]
  },
  {
   "cell_type": "markdown",
   "id": "18ef5199-9ad9-4822-a751-a7a704dc5d1b",
   "metadata": {},
   "source": [
    "With the ongoing rise of antibiotic resistance in bacteria, including challenging pathogens like Mycobacteria, finding alternative treatments for patients is becoming increasingly urgent. An emerging approach is the use of phage lysins to effectively target and eradicate specific bacterial infections. Lysins are enzymes produced by bacteriophages, they possess domains that adhere to bacterial cell wall components and trigger hydrolysis, ultimately resulting in the elimination of the host bacterium. Understanding the conservation and variability of amino acid sequences, especially in the context of Mycobacteria infections, is crucial for developing effective therapeutic lysin treatments. In this project, we will identify conserved regions, assess sequence similarity, and uncover evolutionary patterns to inform the development of targeted antibacterial therapies, specifically focusing on Mycobacteria skin and lung infections."
   ]
  },
  {
   "cell_type": "markdown",
   "id": "af999b0a-737a-4143-83b2-d67743ebfe1b",
   "metadata": {},
   "source": [
    "Data Wrangling"
   ]
  },
  {
   "cell_type": "code",
   "execution_count": 1,
   "id": "782ab4a7-ce25-4c3a-8cb0-7301b038ebf7",
   "metadata": {},
   "outputs": [],
   "source": [
    "# Import Modules\n",
    "import requests\n",
    "import json\n",
    "import re\n",
    "import pandas as pd"
   ]
  },
  {
   "cell_type": "markdown",
   "id": "b4762159-d555-4256-a459-b9dbd326437f",
   "metadata": {},
   "source": [
    "Data collection"
   ]
  },
  {
   "cell_type": "code",
   "execution_count": null,
   "id": "1c929878-5aba-44c9-bbd6-cb40d66a54bc",
   "metadata": {},
   "outputs": [],
   "source": [
    "# Fetch genes data from phagesdb API\n",
    "\n",
    "# URL of the API endpoint\n",
    "url = \"https://phagesdb.org/api/genes/\"\n",
    "\n",
    "# Define the chunk size\n",
    "chunk_size = 10000  # You can adjust this value based on your needs\n",
    "\n",
    "# Initialize variables for pagination\n",
    "page = 1\n",
    "total_records = None\n",
    "\n",
    "# Open the JSON file in write mode\n",
    "with open('phagesdb_genes.json', 'w') as file:\n",
    "    # Write an opening bracket to indicate the start of a JSON array\n",
    "    file.write(\"[\\n\")\n",
    "   \n",
    "    # Fetch data in chunks until all records are retrieved\n",
    "    while total_records is None or (page - 1) * chunk_size < total_records:\n",
    "        # Make a request to the API with pagination parameters\n",
    "        response = requests.get(url, params={'page': page, 'page_size': chunk_size})\n",
    "       \n",
    "        # Check if the request was successful\n",
    "        if response.status_code == 200:\n",
    "            # Convert the response to JSON format\n",
    "            data = response.json()\n",
    "           \n",
    "            # Update the total number of records if it's not set yet\n",
    "            if total_records is None:\n",
    "                total_records = data['count']\n",
    "           \n",
    "            # Write the fetched data from the current page to the JSON file\n",
    "            json.dump(data['results'], file)\n",
    "           \n",
    "            # Write a comma after each chunk except for the last one\n",
    "            if (page - 1) * chunk_size + len(data['results']) < total_records:\n",
    "                file.write(\",\\n\")\n",
    "           \n",
    "            # Print a message to indicate progress\n",
    "            print(f\"Fetched {len(data['results'])} records (Chunk {page})\")\n",
    "        else:\n",
    "            # Print an error message if the request was not successful\n",
    "            print(f\"Error fetching data: {response.status_code}\")\n",
    "            break\n",
    "       \n",
    "        # Increment the page number for the next request\n",
    "        page += 1\n",
    "   \n",
    "    # Write a closing bracket to indicate the end of the JSON array\n",
    "    file.write(\"\\n]\\n\")\n",
    "\n",
    "# Print a message to indicate successful completion\n",
    "print(\"Data fetched and saved successfully!\")\r\n"
   ]
  },
  {
   "cell_type": "code",
   "execution_count": null,
   "id": "e8a86367-2090-43ca-a506-c2e50742bcd2",
   "metadata": {},
   "outputs": [],
   "source": [
    "#Combine outer lists generated from chunk\n",
    "\n",
    "# Read the JSON file\n",
    "with open('phagesdb_genes.json', 'r') as file:\n",
    "    data = json.load(file)\n",
    "\n",
    "# Combine the outer lists\n",
    "combined_data = sum(data, [])\n",
    "\n",
    "# Determine the number of lists in the final JSON data\n",
    "num_lists = len(combined_data)\n",
    "print(\"Number of lists in the final JSON data:\", num_lists)\n",
    "\n",
    "# Define the file path for the new JSON file\n",
    "output_file = 'combined_data_output.json'\n",
    "\n",
    "# Write the combined JSON data to the new file\n",
    "with open(output_file, 'w') as file:\n",
    "    json.dump(combined_data, file)\n",
    "\n",
    "print(\"Combined JSON data saved to\", output_file)"
   ]
  },
  {
   "cell_type": "markdown",
   "id": "ca4daf15-9224-4b81-bf3e-ab8299e8f3d6",
   "metadata": {},
   "source": [
    "Data Definition and Cleaning"
   ]
  },
  {
   "cell_type": "code",
   "execution_count": 2,
   "id": "97ac417c-7d31-42ad-9c66-8b3dc2fa357d",
   "metadata": {},
   "outputs": [
    {
     "name": "stdout",
     "output_type": "stream",
     "text": [
      "Filtering dictionaries...\n",
      "Filtering complete.\n",
      "Saving filtered dictionaries...\n",
      "Filtered dictionaries saved to 'lysin_dictionaries.json'\n",
      "Number of dictionaries saved: 7182\n"
     ]
    }
   ],
   "source": [
    "# Filter json file for only entries containing lysin in Notes field\n",
    "\n",
    "# Load the combined_data_output.json file\n",
    "input_file_path = 'combined_data_output.json'\n",
    "\n",
    "with open(input_file_path, 'r') as input_file:\n",
    "    data = json.load(input_file)\n",
    "\n",
    "# Function to check if any form of \"lysin\" is present in the Notes\n",
    "def contains_lysin(notes):\n",
    "    lysin_pattern = re.compile(r'lysin', re.IGNORECASE)\n",
    "    return bool(lysin_pattern.search(notes))\n",
    "\n",
    "# Filter for dictionaries where the Notes key contains any form of \"lysin\"\n",
    "lysin_dictionaries = []\n",
    "\n",
    "print(\"Filtering dictionaries...\")\n",
    "\n",
    "for item in data:\n",
    "    notes = item.get('Notes', '')\n",
    "    if contains_lysin(notes):\n",
    "        lysin_dictionaries.append(item)\n",
    "\n",
    "print(\"Filtering complete.\")\n",
    "\n",
    "# Specify the path to the new JSON file\n",
    "output_file_path = 'lysin_dictionaries.json'\n",
    "\n",
    "# Write the filtered dictionaries to the new JSON file\n",
    "print(\"Saving filtered dictionaries...\")\n",
    "\n",
    "with open(output_file_path, 'w') as output_file:\n",
    "    json.dump(lysin_dictionaries, output_file)\n",
    "\n",
    "num_saved_dictionaries = len(lysin_dictionaries)\n",
    "print(f\"Filtered dictionaries saved to '{output_file_path}'\")\n",
    "print(f\"Number of dictionaries saved: {num_saved_dictionaries}\")\n",
    "\n",
    "# Load the combined_data_output.json file\n",
    "input_file_path = 'combined_data_output.json'\n",
    "\n",
    "with open(input_file_path, 'r') as input_file:\n",
    "    combined_data_output = json.load(input_file)"
   ]
  },
  {
   "cell_type": "code",
   "execution_count": 3,
   "id": "557a14b4-f3d9-46f1-a4d9-e59e466a23df",
   "metadata": {},
   "outputs": [
    {
     "name": "stdout",
     "output_type": "stream",
     "text": [
      "Unnested data saved to: lysin_unnested_data.json\n"
     ]
    }
   ],
   "source": [
    "# Un-nest PhageID dictionary in json file \n",
    "\n",
    "# Load the JSON data\n",
    "with open('lysin_dictionaries.json', 'r') as file:\n",
    "    data = json.load(file)\n",
    "\n",
    "# Iterate through each gene entry\n",
    "for gene_entry in data:\n",
    "    # Unpack the PhageID dictionary\n",
    "    phage_id_dict = gene_entry.pop('PhageID')\n",
    "    for key, value in phage_id_dict.items():\n",
    "        # Add each key-value pair to the outer dictionary\n",
    "        gene_entry[key] = value\n",
    "\n",
    "# Save the modified data to a new JSON file\n",
    "output_file_path = 'lysin_unnested_data.json'\n",
    "with open(output_file_path, 'w') as output_file:\n",
    "    json.dump(data, output_file, indent=4)\n",
    "\n",
    "print(\"Unnested data saved to:\", output_file_path)\n"
   ]
  },
  {
   "cell_type": "code",
   "execution_count": 4,
   "id": "ef30e478-6bf1-410c-94ad-28c88bc4520c",
   "metadata": {},
   "outputs": [
    {
     "name": "stdout",
     "output_type": "stream",
     "text": [
      "        GeneID     phams  Start   Stop  Length  Name  \\\n",
      "0  20ES_CDS_10  [152741]   6442   7420     978  20ES   \n",
      "1   20ES_CDS_8  [152812]   4689   5988    1299  20ES   \n",
      "2   244_CDS_34  [152812]  29920  31423    1503   244   \n",
      "3  32HC_CDS_36  [152814]  27404  28772    1368  32HC   \n",
      "4  32HC_CDS_37    [3452]  28786  29938    1152  32HC   \n",
      "\n",
      "                                         translation Orientation       Notes  \\\n",
      "0  MSLQVGSSGELVNRWIRVMKARFASYAGKLKEDGYFGLDDKAVQQE...           F  b'lysin B'   \n",
      "1  MTAVITRKQAQWVHDMARARNGLPYAYGGAFTNDPKRSTDCSGLVL...           F  b'lysin A'   \n",
      "2  MSVTRANVEATKRFIGERVGNPYVYGGALSPTNVHQGTDCSEVWQT...           F  b'lysin A'   \n",
      "3  MPGSEIPRYWPLGAGRIVTSPFGPRSGGFHAGVDFGRNGGSAGMPV...           F  b'lysin A'   \n",
      "4  MAWKQPQLTDPPMVSEEIGKLNRRLLLAYAANSRAVEAGVQLHDVF...           F  b'lysin B'   \n",
      "\n",
      "  PhageID Accession     HostStrain Cluster  \n",
      "0    20ES  KJ410132  Mycobacterium      A2  \n",
      "1    20ES  KJ410132  Mycobacterium      A2  \n",
      "2     244  DQ398041  Mycobacterium       E  \n",
      "3    32HC  KJ028219  Mycobacterium       Z  \n",
      "4    32HC  KJ028219  Mycobacterium       Z  \n"
     ]
    }
   ],
   "source": [
    "# Read in json file as a pandas df\n",
    "lysin_df = pd.read_json('lysin_unnested_data.json')\n",
    "print(lysin_df.head())"
   ]
  },
  {
   "cell_type": "code",
   "execution_count": 5,
   "id": "ce9b424f-c2c4-451c-a97c-23b01933becb",
   "metadata": {},
   "outputs": [
    {
     "name": "stdout",
     "output_type": "stream",
     "text": [
      "DataFrame shape: (7182, 13)\n",
      "<class 'pandas.core.frame.DataFrame'>\n",
      "RangeIndex: 7182 entries, 0 to 7181\n",
      "Data columns (total 13 columns):\n",
      " #   Column       Non-Null Count  Dtype \n",
      "---  ------       --------------  ----- \n",
      " 0   GeneID       7182 non-null   object\n",
      " 1   phams        7182 non-null   object\n",
      " 2   Start        7182 non-null   int64 \n",
      " 3   Stop         7182 non-null   int64 \n",
      " 4   Length       7182 non-null   int64 \n",
      " 5   Name         7182 non-null   object\n",
      " 6   translation  7182 non-null   object\n",
      " 7   Orientation  7182 non-null   object\n",
      " 8   Notes        7182 non-null   object\n",
      " 9   PhageID      7182 non-null   object\n",
      " 10  Accession    7182 non-null   object\n",
      " 11  HostStrain   7182 non-null   object\n",
      " 12  Cluster      7117 non-null   object\n",
      "dtypes: int64(3), object(10)\n",
      "memory usage: 729.6+ KB\n",
      "None\n"
     ]
    }
   ],
   "source": [
    "# Investigate the DataFrame\n",
    "print(\"DataFrame shape:\", lysin_df.shape)\n",
    "\n",
    "print(lysin_df.info())"
   ]
  },
  {
   "cell_type": "code",
   "execution_count": 6,
   "id": "7f4fa759-38c9-4eae-b105-1d2a35cd823b",
   "metadata": {},
   "outputs": [
    {
     "name": "stdout",
     "output_type": "stream",
     "text": [
      "Missing values counts:\n",
      "GeneID          0\n",
      "phams           0\n",
      "Start           0\n",
      "Stop            0\n",
      "Length          0\n",
      "Name            0\n",
      "translation     0\n",
      "Orientation     0\n",
      "Notes           0\n",
      "PhageID         0\n",
      "Accession       0\n",
      "HostStrain      0\n",
      "Cluster        65\n",
      "dtype: int64\n"
     ]
    }
   ],
   "source": [
    "# Check for missing values in each column\n",
    "missing_values = lysin_df.isna().sum()\n",
    "\n",
    "# Print the missing values counts\n",
    "print(\"Missing values counts:\")\n",
    "print(missing_values)\n"
   ]
  },
  {
   "cell_type": "markdown",
   "id": "b865b383-0257-49f6-a59d-749739554236",
   "metadata": {},
   "source": [
    "Cluster info is sometimes unknown and missing from this dataset. It will not affect the downsteam analysis. "
   ]
  },
  {
   "cell_type": "code",
   "execution_count": 7,
   "id": "2461379c-35ec-4d2e-a36a-98b2c0acb68b",
   "metadata": {},
   "outputs": [
    {
     "name": "stdout",
     "output_type": "stream",
     "text": [
      "Column: GeneID | Duplicate Count: 0\n",
      "Column: phams | Duplicate Count: 127\n",
      "Column: Start | Duplicate Count: 1018\n",
      "Column: Stop | Duplicate Count: 1037\n",
      "Column: Length | Duplicate Count: 352\n",
      "Column: Name | Duplicate Count: 2669\n",
      "Column: translation | Duplicate Count: 987\n",
      "Column: Orientation | Duplicate Count: 2\n",
      "Column: Notes | Duplicate Count: 33\n",
      "Column: PhageID | Duplicate Count: 2669\n",
      "Column: Accession | Duplicate Count: 2664\n",
      "Column: HostStrain | Duplicate Count: 11\n",
      "Column: Cluster | Duplicate Count: 279\n"
     ]
    }
   ],
   "source": [
    "#Count duplicate values in each column\n",
    "\n",
    "# Iterate over each column in the DataFrame\n",
    "for column in lysin_df.columns:\n",
    "    # Count the occurrences of each unique value in the column\n",
    "    value_counts = lysin_df[column].value_counts()\n",
    "    \n",
    "    # Count the number of occurrences greater than 1 to find duplicates\n",
    "    duplicate_count = sum(value_counts > 1)\n",
    "    \n",
    "    # Print column name and duplicate count\n",
    "    print(f\"Column: {column} | Duplicate Count: {duplicate_count}\")"
   ]
  },
  {
   "cell_type": "markdown",
   "id": "3652a0e1-2fef-49f7-8282-ce87cd91c73b",
   "metadata": {},
   "source": [
    "Most importantly each dictionary entry has a unique GeneID, it is not suprising that other Keys contain duplicate values. "
   ]
  },
  {
   "cell_type": "code",
   "execution_count": 8,
   "id": "c18ea89c-c9b5-4aa7-8a99-da652ab734a4",
   "metadata": {},
   "outputs": [
    {
     "name": "stdout",
     "output_type": "stream",
     "text": [
      "Notes: b'lysin B' | Count: 2517\n",
      "Notes: b'lysin A' | Count: 2770\n",
      "Notes: b'endolysin' | Count: 1007\n",
      "Notes: b'putative lysin A' | Count: 8\n",
      "Notes: b'putative lysin B' | Count: 6\n",
      "Notes: b'LysM-like endolysin' | Count: 28\n",
      "Notes: b'lysin A, protease M23 domain' | Count: 63\n",
      "Notes: b'lysin' | Count: 28\n",
      "Notes: b'lysin A, N-acetylmuramoyl-L-alanine amidase domain' | Count: 99\n",
      "Notes: b'lysin A, L-Ala-D-Glu peptidase domain' | Count: 156\n",
      "Notes: b'lysin A, glycosyl hydrolase domain' | Count: 213\n",
      "Notes: b'lysin A, protease C39 domain' | Count: 93\n",
      "Notes: b'lysin A, N-acetylmuramoyl-L-alanine amidase' | Count: 1\n",
      "Notes: b'lysin A, M23 peptidase domain' | Count: 2\n",
      "Notes: b'lysin A, amidase domain' | Count: 3\n",
      "Notes: b'endolysin, L-Ala-D-Glu peptidase domain' | Count: 41\n",
      "Notes: b'endolysin, N-acetylmuramoyl-L-alanine amidase domain' | Count: 45\n",
      "Notes: b'endolysin, protease M23 domain' | Count: 7\n",
      "Notes: b'lysin A, N-acetylmuramoyl-L-alanine' | Count: 2\n",
      "Notes: b'gp24, lysin' | Count: 1\n",
      "Notes: b'lysin A, L-ala D-glu peptidase domain' | Count: 1\n",
      "Notes: b'lysin A glycosidase domain' | Count: 1\n",
      "Notes: b'lysin A amidase domain' | Count: 1\n",
      "Notes: b'lysin A peptidase domain' | Count: 1\n",
      "Notes: b'lysin A, N-acetylmuramoyl-L-alanine amides domain' | Count: 3\n",
      "Notes: b'lysin A, l-ala d-glu peptidase domain' | Count: 1\n",
      "Notes: b'lysin A, protease M15 domain' | Count: 11\n",
      "Notes: b'lysin A N-acetylmuramoyl-L-alanine amidase domain' | Count: 1\n",
      "Notes: b'lysin A L-Ala-D-Glu peptidase domain' | Count: 2\n",
      "Notes: b'endolysin, protease C39 domain' | Count: 3\n",
      "Notes: b'endolysin, glycosyl hydrolase domain' | Count: 4\n",
      "Notes: b'lysin A, protease domain' | Count: 3\n",
      "Notes: b'endolysin, protease M15 domain' | Count: 3\n",
      "Notes: b'lysin A protease C39 domain' | Count: 1\n",
      "Notes: b'lysin A, peptidoglycan recogniton protein' | Count: 1\n",
      "Notes: b'lysin A, N-acetyl-B-D-muramidase domain' | Count: 1\n",
      "Notes: b'endolysin domain protein' | Count: 2\n",
      "Notes: b'putative lysin' | Count: 20\n",
      "Notes: b'lysin A glycosyl hydrolase domain' | Count: 1\n",
      "Notes: b'lysinB protein' | Count: 1\n",
      "Notes: b'lysin A, GH19 glycoside hydrolase domain' | Count: 1\n",
      "Notes: b'lysin A, N-acetyl-beta-D-muramidase domain' | Count: 1\n",
      "Notes: b'lysin A, peptidase domain' | Count: 5\n",
      "Notes: b'endolysin, peptidase domain' | Count: 2\n",
      "Notes: b'lysinA, hydrolase domain' | Count: 1\n",
      "Notes: b'Lysin A' | Count: 1\n",
      "Notes: b'Lysin B' | Count: 2\n",
      "Notes: b'lysin A, N-acetylmuramoyl-Lalanine amidase domain' | Count: 1\n",
      "Notes: b'lysin A, l-ala-d-glu peptidase domain' | Count: 1\n",
      "Notes: b'endolysin amidase' | Count: 1\n",
      "Notes: b'endolysin endopeptidase/amidase' | Count: 1\n",
      "Notes: b'lysin A, C39 peptidase domain' | Count: 1\n",
      "Notes: b'putative endolysin' | Count: 2\n",
      "Notes: b'endolysin, protease M23 domain and cell wall binding domain' | Count: 1\n",
      "Notes: b'endolysin, protease domain' | Count: 1\n",
      "Notes: b'lysin A, glycosyl hyrdrolase domain' | Count: 1\n",
      "Notes: b'lysin A, L-Ala,-D-Glu peptidase domain' | Count: 1\n",
      "Notes: b'lysin A, M15 protease' | Count: 1\n",
      "Notes: b'lysin A, protease C39' | Count: 1\n",
      "Notes: b'putitive lysin A' | Count: 2\n",
      "Notes: b'putitive lysin B' | Count: 2\n"
     ]
    }
   ],
   "source": [
    "# Count and display Notes Column \n",
    "\n",
    "# Dictionary to store counts of different notes\n",
    "notes_counts = {}\n",
    "\n",
    "# Iterate through each entry in the \"Notes\" column\n",
    "for note in lysin_df['Notes']:\n",
    "    # Check if the value is not empty\n",
    "    if note:\n",
    "        # Update the count for the note value\n",
    "        if note in notes_counts:\n",
    "            notes_counts[note] += 1\n",
    "        else:\n",
    "            notes_counts[note] = 1\n",
    "\n",
    "# Print all unique note values and their counts\n",
    "for note, count in notes_counts.items():\n",
    "    print(f\"Notes: {note} | Count: {count}\")\n"
   ]
  },
  {
   "cell_type": "markdown",
   "id": "73f63ace-20e1-427c-9d0a-1127b4d32502",
   "metadata": {},
   "source": [
    "The Notes field contains many different iterations of lysin. In order to proceed with analysis we will determine how many entries contain the following: lysin A, lysin B, endolysin, and other."
   ]
  },
  {
   "cell_type": "code",
   "execution_count": 9,
   "id": "cd1854e8-e2f4-417a-acb3-97bac48c0e46",
   "metadata": {},
   "outputs": [
    {
     "name": "stdout",
     "output_type": "stream",
     "text": [
      "Unique note values and their counts:\n",
      "Notes\n",
      "lysin A           3457\n",
      "lysin B           2527\n",
      "endolysin         1147\n",
      "putative lysin      51\n",
      "Name: count, dtype: int64\n",
      "Total count after modifications: 7182\n",
      "Final JSON file saved successfully!\n"
     ]
    }
   ],
   "source": [
    "# Reclassify notes column and print Notes counts, Save df as json\n",
    "def classify_notes(notes):\n",
    "    if notes:\n",
    "        notes_lower = notes.lower()\n",
    "        if 'lysin a' in notes_lower or 'lysinA' in notes_lower:\n",
    "            return 'lysin A'\n",
    "        elif 'lysin b' in notes_lower or 'lysinB' in notes_lower:\n",
    "            return 'lysin B'\n",
    "        elif 'endolysin' in notes_lower:\n",
    "            return 'endolysin'\n",
    "        elif 'lysin' in notes_lower:\n",
    "            return 'putative lysin'\n",
    "    return notes\n",
    "\n",
    "lysin_df['Notes'] = lysin_df['Notes'].apply(classify_notes)\n",
    "\n",
    "# Count unique values in the 'Notes' column\n",
    "notes_counts = lysin_df['Notes'].value_counts()\n",
    "\n",
    "# Print all unique note values and their counts\n",
    "print(\"Unique note values and their counts:\")\n",
    "print(notes_counts)\n",
    "\n",
    "# Calculate the total count\n",
    "total_count = notes_counts.sum()\n",
    "\n",
    "# Print the total count\n",
    "print(\"Total count after modifications:\", total_count)\n",
    "\n",
    "# Specify the path to save the final JSON file\n",
    "final_json_file_path = \"final_lysin_data.json\"\n",
    "\n",
    "# Save the modified DataFrame as a JSON file\n",
    "lysin_df.to_json(final_json_file_path, orient='records', indent=4)\n",
    "\n",
    "print(\"Final JSON file saved successfully!\")"
   ]
  },
  {
   "cell_type": "markdown",
   "id": "d606fb6c-178f-4e6d-ad7f-29c063062937",
   "metadata": {},
   "source": [
    "json file is now ready for further analysis. "
   ]
  },
  {
   "cell_type": "code",
   "execution_count": null,
   "id": "dab42f68-d745-4828-b3ff-9d494fe4e105",
   "metadata": {},
   "outputs": [],
   "source": []
  }
 ],
 "metadata": {
  "kernelspec": {
   "display_name": "Python 3 (ipykernel)",
   "language": "python",
   "name": "python3"
  },
  "language_info": {
   "codemirror_mode": {
    "name": "ipython",
    "version": 3
   },
   "file_extension": ".py",
   "mimetype": "text/x-python",
   "name": "python",
   "nbconvert_exporter": "python",
   "pygments_lexer": "ipython3",
   "version": "3.11.8"
  }
 },
 "nbformat": 4,
 "nbformat_minor": 5
}
